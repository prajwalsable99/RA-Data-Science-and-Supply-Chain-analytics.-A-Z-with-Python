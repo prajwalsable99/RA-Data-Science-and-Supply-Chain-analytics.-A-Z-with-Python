{
 "cells": [
  {
   "cell_type": "code",
   "execution_count": 1,
   "id": "fafb62f3-6078-49ab-af16-f878423c5de3",
   "metadata": {},
   "outputs": [],
   "source": [
    "import pandas as pd\n",
    "import inventorize3 as inv\n"
   ]
  },
  {
   "cell_type": "code",
   "execution_count": 16,
   "id": "67551c63-9cb0-4985-9951-a72a5af2f78b",
   "metadata": {},
   "outputs": [],
   "source": [
    "#demand\n",
    "mean=50\n",
    "sd=10\n",
    "sp=3 #selling price\n",
    "cost=1.2 #cogs\n",
    "salvage=0.7\n",
    "penality=0.4"
   ]
  },
  {
   "cell_type": "code",
   "execution_count": 17,
   "id": "5dc4eb84-5bda-4762-a5bd-9afe9c4f8069",
   "metadata": {},
   "outputs": [
    {
     "data": {
      "text/plain": [
       "0.6"
      ]
     },
     "execution_count": 17,
     "metadata": {},
     "output_type": "execute_result"
    }
   ],
   "source": [
    "\n",
    "inv.CriticalRatio(sp,cost,0,0)"
   ]
  },
  {
   "cell_type": "code",
   "execution_count": 18,
   "id": "87d0208f-f37a-4cc5-af72-f2d1c5ba4816",
   "metadata": {},
   "outputs": [
    {
     "data": {
      "text/plain": [
       "0.782608695652174"
      ]
     },
     "execution_count": 18,
     "metadata": {},
     "output_type": "execute_result"
    }
   ],
   "source": [
    "\n",
    "inv.CriticalRatio(sp,cost,salvage=salvage,penality=0)"
   ]
  },
  {
   "cell_type": "code",
   "execution_count": 19,
   "id": "4f02c34a-810b-4f50-8826-67d48b4cc733",
   "metadata": {},
   "outputs": [
    {
     "data": {
      "text/plain": [
       "{'quantity': np.float64(52.533471031358),\n",
       " 'demand': 50,\n",
       " 'sd': 10,\n",
       " 'unitshort': np.float64(2.8500369224254065),\n",
       " 'shortagecost': np.float64(8.55011076727622),\n",
       " 'cost': np.float64(63.040165237629594),\n",
       " 'revenue': 150,\n",
       " 'profit': np.float64(78.40972399509418),\n",
       " 'soldatfullprice': np.float64(47.1499630775746),\n",
       " 'sold_discount': np.float64(5.3835079537834005)}"
      ]
     },
     "execution_count": 19,
     "metadata": {},
     "output_type": "execute_result"
    }
   ],
   "source": [
    "inv.MPN_singleperiod(mean,sd,sp,cost,0,0)"
   ]
  },
  {
   "cell_type": "code",
   "execution_count": 20,
   "id": "b8b6ccc6-c666-4cd0-bd92-b1df018b90a6",
   "metadata": {},
   "outputs": [
    {
     "data": {
      "text/plain": [
       "{'quantity': np.float64(57.81033811522709),\n",
       " 'demand': 50,\n",
       " 'sd': 10,\n",
       " 'unitshort': np.float64(1.2427768964900099),\n",
       " 'shortagecost': np.float64(2.8583868619270225),\n",
       " 'cost': np.float64(28.905169057613545),\n",
       " 'revenue': 150,\n",
       " 'profit': np.float64(83.23644408045942),\n",
       " 'soldatfullprice': np.float64(48.75722310350999),\n",
       " 'sold_discount': np.float64(9.053115011717097)}"
      ]
     },
     "execution_count": 20,
     "metadata": {},
     "output_type": "execute_result"
    }
   ],
   "source": [
    "inv.MPN_singleperiod(mean,sd,sp,cost,salvage,0)"
   ]
  },
  {
   "cell_type": "code",
   "execution_count": 21,
   "id": "d0be4736-bcb7-472c-9c34-be1c788b4ef7",
   "metadata": {},
   "outputs": [
    {
     "data": {
      "text/plain": [
       "{'quantity': np.float64(58.957798188835895),\n",
       " 'demand': 50,\n",
       " 'sd': 10,\n",
       " 'unitshort': np.float64(1.012102766308183),\n",
       " 'shortagecost': np.float64(2.732677469032094),\n",
       " 'cost': np.float64(29.478899094417947),\n",
       " 'revenue': 150,\n",
       " 'profit': np.float64(82.78842343654995),\n",
       " 'soldatfullprice': np.float64(48.98789723369182),\n",
       " 'sold_discount': np.float64(9.969900955144077)}"
      ]
     },
     "execution_count": 21,
     "metadata": {},
     "output_type": "execute_result"
    }
   ],
   "source": [
    "inv.MPN_singleperiod(mean,sd,sp,cost,salvage,penality)"
   ]
  },
  {
   "cell_type": "code",
   "execution_count": null,
   "id": "c7bdf38e-516b-413b-bd9a-57b562a423f8",
   "metadata": {},
   "outputs": [],
   "source": []
  },
  {
   "cell_type": "code",
   "execution_count": null,
   "id": "f569f16b-7193-42c1-ba89-cce52216702d",
   "metadata": {},
   "outputs": [],
   "source": []
  },
  {
   "cell_type": "code",
   "execution_count": null,
   "id": "c6f4d584-bea1-43de-9e35-bf058c768c00",
   "metadata": {},
   "outputs": [],
   "source": []
  }
 ],
 "metadata": {
  "kernelspec": {
   "display_name": "Python 3 (ipykernel)",
   "language": "python",
   "name": "python3"
  },
  "language_info": {
   "codemirror_mode": {
    "name": "ipython",
    "version": 3
   },
   "file_extension": ".py",
   "mimetype": "text/x-python",
   "name": "python",
   "nbconvert_exporter": "python",
   "pygments_lexer": "ipython3",
   "version": "3.12.3"
  }
 },
 "nbformat": 4,
 "nbformat_minor": 5
}
