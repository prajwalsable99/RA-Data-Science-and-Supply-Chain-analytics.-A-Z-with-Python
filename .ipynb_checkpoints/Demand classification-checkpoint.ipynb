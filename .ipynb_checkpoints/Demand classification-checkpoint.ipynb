{
 "cells": [
  {
   "cell_type": "code",
   "execution_count": 68,
   "id": "63aa6a7b-44de-4cb2-bc2d-d945ad490013",
   "metadata": {},
   "outputs": [],
   "source": [
    "import numpy as np\n",
    "import pandas as pd\n",
    "import matplotlib.pyplot as plt\n",
    "import seaborn as sns\n",
    "import os\n",
    "from tqdm import tqdm\n",
    "import warnings\n",
    "warnings.filterwarnings('ignore')"
   ]
  },
  {
   "cell_type": "markdown",
   "id": "5c14f734-cb35-4caa-a5a6-6e6e2ab33243",
   "metadata": {},
   "source": [
    "!['Demand classification'](https://miro.medium.com/v2/resize:fit:1400/format:webp/0*KQQmtAONkr_g8Smo.png )"
   ]
  },
  {
   "cell_type": "markdown",
   "id": "db4b5ec4-eaa4-4945-b55b-89ff751992da",
   "metadata": {},
   "source": [
    "```\n",
    "Based on these 2 dimensions, the literature classifies the demand profiles into 4 different categories:\n",
    "\n",
    "Smooth demand (ADI < 1.32 and CV² < 0.49). The demand is very regular in time and in quantity. It is therefore easy to forecast and you won’t have trouble reaching a low forecasting error level.\n",
    "Intermittent demand (ADI >= 1.32 and CV² < 0.49). The demand history shows very little variation in demand quantity but a high variation in the interval between two demands. Though specific forecasting methods tackle intermittent demands, the forecast error margin is considerably higher.\n",
    "Erratic demand (ADI < 1.32 and CV² >= 0.49). The demand has regular occurrences in time with high quantity variations. Your forecast accuracy remains shaky.\n",
    "Lumpy demand (ADI >= 1.32 and CV² >= 0.49). The demand is characterized by a large variation in quantity and in time. It is actually impossible to produce a reliable forecast, no matter which forecasting tools you use. This particular type of demand pattern is unforecastable.\n",
    "Here, the metric is to blame.\n",
    "```"
   ]
  },
  {
   "cell_type": "code",
   "execution_count": 69,
   "id": "21fa7966-e2cb-479c-b961-8984c12a87f3",
   "metadata": {},
   "outputs": [],
   "source": [
    "df=pd.read_csv('twentyeleven.csv')"
   ]
  },
  {
   "cell_type": "code",
   "execution_count": 70,
   "id": "dcad3202-2b56-4f08-b6cc-56e6ec799065",
   "metadata": {},
   "outputs": [
    {
     "name": "stdout",
     "output_type": "stream",
     "text": [
      "<class 'pandas.core.frame.DataFrame'>\n",
      "RangeIndex: 484330 entries, 0 to 484329\n",
      "Data columns (total 11 columns):\n",
      " #   Column       Non-Null Count   Dtype  \n",
      "---  ------       --------------   -----  \n",
      " 0   Invoice      484329 non-null  float64\n",
      " 1   StockCode    484330 non-null  object \n",
      " 2   Description  484330 non-null  object \n",
      " 3   Quantity     484330 non-null  int64  \n",
      " 4   InvoiceDate  484330 non-null  object \n",
      " 5   Price        484330 non-null  float64\n",
      " 6   Customer ID  367058 non-null  float64\n",
      " 7   Country      484330 non-null  object \n",
      " 8   date         484330 non-null  object \n",
      " 9   revenue      484330 non-null  float64\n",
      " 10  year         484330 non-null  int64  \n",
      "dtypes: float64(4), int64(2), object(5)\n",
      "memory usage: 40.6+ MB\n"
     ]
    }
   ],
   "source": [
    "df.info()"
   ]
  },
  {
   "cell_type": "code",
   "execution_count": null,
   "id": "3701a4f0-37d3-400f-8fd4-2e6b05a181d6",
   "metadata": {},
   "outputs": [],
   "source": []
  },
  {
   "cell_type": "code",
   "execution_count": 71,
   "id": "6a0e5b4a-cc0a-4850-9eef-206507b87940",
   "metadata": {},
   "outputs": [],
   "source": [
    "df=pd.read_csv('twentyeleven.csv')"
   ]
  },
  {
   "cell_type": "code",
   "execution_count": 72,
   "id": "fe1fc28c-9cd2-4f81-a4df-3cdb37a0628d",
   "metadata": {},
   "outputs": [],
   "source": [
    "df['InvoiceDate']=pd.to_datetime(df['InvoiceDate'])"
   ]
  },
  {
   "cell_type": "code",
   "execution_count": 73,
   "id": "c60137a4-bd49-404d-ba38-b0e415b44f25",
   "metadata": {},
   "outputs": [],
   "source": [
    "df['daysofweek']=df['InvoiceDate'].dt.dayofweek"
   ]
  },
  {
   "cell_type": "code",
   "execution_count": 74,
   "id": "dfb89225-2cd2-405f-8242-277ae1621986",
   "metadata": {},
   "outputs": [
    {
     "data": {
      "text/plain": [
       "daysofweek\n",
       "3    92832\n",
       "1    92491\n",
       "0    84860\n",
       "2    84439\n",
       "4    71849\n",
       "6    57859\n",
       "Name: count, dtype: int64"
      ]
     },
     "execution_count": 74,
     "metadata": {},
     "output_type": "execute_result"
    }
   ],
   "source": [
    "df['daysofweek'].value_counts()"
   ]
  },
  {
   "cell_type": "code",
   "execution_count": 75,
   "id": "3ea57a58-b83a-412f-b2fc-2a3cd0102f47",
   "metadata": {},
   "outputs": [],
   "source": [
    "df['InvoiceDate']=df['InvoiceDate'].dt.strftime('%Y-%m-%d')"
   ]
  },
  {
   "cell_type": "code",
   "execution_count": 76,
   "id": "543f651c-71d3-4614-9f8a-06a6d07c1447",
   "metadata": {},
   "outputs": [],
   "source": [
    "df['date']=pd.to_datetime(df['date'])"
   ]
  },
  {
   "cell_type": "code",
   "execution_count": 77,
   "id": "1f6b82ed-eaa0-4b1f-b7a7-2696979a6d03",
   "metadata": {},
   "outputs": [
    {
     "name": "stdout",
     "output_type": "stream",
     "text": [
      "<class 'pandas.core.frame.DataFrame'>\n",
      "RangeIndex: 484330 entries, 0 to 484329\n",
      "Data columns (total 12 columns):\n",
      " #   Column       Non-Null Count   Dtype         \n",
      "---  ------       --------------   -----         \n",
      " 0   Invoice      484329 non-null  float64       \n",
      " 1   StockCode    484330 non-null  object        \n",
      " 2   Description  484330 non-null  object        \n",
      " 3   Quantity     484330 non-null  int64         \n",
      " 4   InvoiceDate  484330 non-null  object        \n",
      " 5   Price        484330 non-null  float64       \n",
      " 6   Customer ID  367058 non-null  float64       \n",
      " 7   Country      484330 non-null  object        \n",
      " 8   date         484330 non-null  datetime64[ns]\n",
      " 9   revenue      484330 non-null  float64       \n",
      " 10  year         484330 non-null  int64         \n",
      " 11  daysofweek   484330 non-null  int32         \n",
      "dtypes: datetime64[ns](1), float64(4), int32(1), int64(2), object(4)\n",
      "memory usage: 42.5+ MB\n"
     ]
    }
   ],
   "source": [
    "df.info()"
   ]
  },
  {
   "cell_type": "code",
   "execution_count": 78,
   "id": "f11b968f-8b3d-4418-aba2-4bbfcf11808e",
   "metadata": {},
   "outputs": [],
   "source": [
    "retail_grouped=df.groupby(['Description','date'],as_index=False).aggregate(total_sales=('Quantity','sum'))"
   ]
  },
  {
   "cell_type": "code",
   "execution_count": 79,
   "id": "40bc3176-7dbb-41a3-9579-ebb8bd718570",
   "metadata": {},
   "outputs": [],
   "source": [
    "cv_data=retail_grouped.groupby(['Description']).agg(avg=('total_sales','mean'),sd=('total_sales','std')).reset_index()"
   ]
  },
  {
   "cell_type": "code",
   "execution_count": 80,
   "id": "3030b720-fb75-4e32-98a9-690499379beb",
   "metadata": {},
   "outputs": [
    {
     "data": {
      "text/html": [
       "<div>\n",
       "<style scoped>\n",
       "    .dataframe tbody tr th:only-of-type {\n",
       "        vertical-align: middle;\n",
       "    }\n",
       "\n",
       "    .dataframe tbody tr th {\n",
       "        vertical-align: top;\n",
       "    }\n",
       "\n",
       "    .dataframe thead th {\n",
       "        text-align: right;\n",
       "    }\n",
       "</style>\n",
       "<table border=\"1\" class=\"dataframe\">\n",
       "  <thead>\n",
       "    <tr style=\"text-align: right;\">\n",
       "      <th></th>\n",
       "      <th>Description</th>\n",
       "      <th>avg</th>\n",
       "      <th>sd</th>\n",
       "    </tr>\n",
       "  </thead>\n",
       "  <tbody>\n",
       "    <tr>\n",
       "      <th>0</th>\n",
       "      <td>10 COLOUR SPACEBOY PEN</td>\n",
       "      <td>36.030120</td>\n",
       "      <td>46.870217</td>\n",
       "    </tr>\n",
       "    <tr>\n",
       "      <th>1</th>\n",
       "      <td>12 COLOURED PARTY BALLOONS</td>\n",
       "      <td>18.017391</td>\n",
       "      <td>16.152770</td>\n",
       "    </tr>\n",
       "    <tr>\n",
       "      <th>2</th>\n",
       "      <td>12 DAISY PEGS IN WOOD BOX</td>\n",
       "      <td>5.533333</td>\n",
       "      <td>6.379168</td>\n",
       "    </tr>\n",
       "    <tr>\n",
       "      <th>3</th>\n",
       "      <td>12 EGG HOUSE PAINTED WOOD</td>\n",
       "      <td>1.864865</td>\n",
       "      <td>1.306719</td>\n",
       "    </tr>\n",
       "    <tr>\n",
       "      <th>4</th>\n",
       "      <td>12 HANGING EGGS HAND PAINTED</td>\n",
       "      <td>6.666667</td>\n",
       "      <td>3.669696</td>\n",
       "    </tr>\n",
       "    <tr>\n",
       "      <th>...</th>\n",
       "      <td>...</td>\n",
       "      <td>...</td>\n",
       "      <td>...</td>\n",
       "    </tr>\n",
       "    <tr>\n",
       "      <th>3955</th>\n",
       "      <td>wrongly coded 20713</td>\n",
       "      <td>800.000000</td>\n",
       "      <td>NaN</td>\n",
       "    </tr>\n",
       "    <tr>\n",
       "      <th>3956</th>\n",
       "      <td>wrongly coded 23343</td>\n",
       "      <td>1000.000000</td>\n",
       "      <td>NaN</td>\n",
       "    </tr>\n",
       "    <tr>\n",
       "      <th>3957</th>\n",
       "      <td>wrongly marked</td>\n",
       "      <td>48.000000</td>\n",
       "      <td>NaN</td>\n",
       "    </tr>\n",
       "    <tr>\n",
       "      <th>3958</th>\n",
       "      <td>wrongly marked 23343</td>\n",
       "      <td>200.000000</td>\n",
       "      <td>NaN</td>\n",
       "    </tr>\n",
       "    <tr>\n",
       "      <th>3959</th>\n",
       "      <td>wrongly sold (22719) barcode</td>\n",
       "      <td>170.000000</td>\n",
       "      <td>NaN</td>\n",
       "    </tr>\n",
       "  </tbody>\n",
       "</table>\n",
       "<p>3960 rows × 3 columns</p>\n",
       "</div>"
      ],
      "text/plain": [
       "                       Description          avg         sd\n",
       "0           10 COLOUR SPACEBOY PEN    36.030120  46.870217\n",
       "1       12 COLOURED PARTY BALLOONS    18.017391  16.152770\n",
       "2        12 DAISY PEGS IN WOOD BOX     5.533333   6.379168\n",
       "3        12 EGG HOUSE PAINTED WOOD     1.864865   1.306719\n",
       "4     12 HANGING EGGS HAND PAINTED     6.666667   3.669696\n",
       "...                            ...          ...        ...\n",
       "3955           wrongly coded 20713   800.000000        NaN\n",
       "3956           wrongly coded 23343  1000.000000        NaN\n",
       "3957                wrongly marked    48.000000        NaN\n",
       "3958          wrongly marked 23343   200.000000        NaN\n",
       "3959  wrongly sold (22719) barcode   170.000000        NaN\n",
       "\n",
       "[3960 rows x 3 columns]"
      ]
     },
     "execution_count": 80,
     "metadata": {},
     "output_type": "execute_result"
    }
   ],
   "source": [
    "cv_data"
   ]
  },
  {
   "cell_type": "code",
   "execution_count": 81,
   "id": "74a26f2e-bf4b-4de5-b39b-d79843bb03d7",
   "metadata": {},
   "outputs": [],
   "source": [
    "cv_data['cv_squared']= (cv_data['sd']/cv_data['avg'])**2"
   ]
  },
  {
   "cell_type": "code",
   "execution_count": 82,
   "id": "16bd824c-1396-4301-b3de-0fe74fac471b",
   "metadata": {},
   "outputs": [],
   "source": [
    "prod_by_date=df.groupby(['Description','date']).agg(count=('Description','count')).reset_index()"
   ]
  },
  {
   "cell_type": "code",
   "execution_count": null,
   "id": "c244ca49-6b38-4b64-a34e-4284423c8017",
   "metadata": {},
   "outputs": [],
   "source": []
  },
  {
   "cell_type": "code",
   "execution_count": 83,
   "id": "c8f60fd8-f975-4dbc-8d24-983fd06ba140",
   "metadata": {},
   "outputs": [],
   "source": [
    "skus=prod_by_date.Description.unique()\n"
   ]
  },
  {
   "cell_type": "code",
   "execution_count": 84,
   "id": "9f783fd4-d5d0-4ee1-8a70-70f0f830535c",
   "metadata": {},
   "outputs": [
    {
     "data": {
      "text/plain": [
       "3960"
      ]
     },
     "execution_count": 84,
     "metadata": {},
     "output_type": "execute_result"
    }
   ],
   "source": [
    "len(skus)"
   ]
  },
  {
   "cell_type": "code",
   "execution_count": 48,
   "id": "ceb488ee-273b-4911-9e38-b516f022b181",
   "metadata": {},
   "outputs": [],
   "source": [
    "empty_df=pd.DataFrame()"
   ]
  },
  {
   "cell_type": "code",
   "execution_count": 85,
   "id": "7ca3de6b-4f20-49bf-94d2-811d55169768",
   "metadata": {},
   "outputs": [
    {
     "name": "stderr",
     "output_type": "stream",
     "text": [
      "100%|██████████████████████████████████████████████████████████████████████████████| 3960/3960 [01:46<00:00, 37.15it/s]\n"
     ]
    }
   ],
   "source": [
    "for sku in tqdm(skus):\n",
    "    a=prod_by_date[prod_by_date.Description==sku]\n",
    "    a['prev_date']=a['date'].shift(1)\n",
    "    empty_df=pd.concat([empty_df,a],axis=0)\n"
   ]
  },
  {
   "cell_type": "code",
   "execution_count": null,
   "id": "60de4e4d-f817-4fe1-bbb1-43f94a8d0cce",
   "metadata": {},
   "outputs": [],
   "source": []
  },
  {
   "cell_type": "code",
   "execution_count": 86,
   "id": "40197698-23d5-43ab-8723-58db9ba59f19",
   "metadata": {},
   "outputs": [],
   "source": [
    "empty_df['duration']=empty_df['date'] -empty_df['prev_date']"
   ]
  },
  {
   "cell_type": "code",
   "execution_count": 87,
   "id": "9378cb75-dd65-48a8-9239-7e1089c45084",
   "metadata": {},
   "outputs": [
    {
     "data": {
      "text/html": [
       "<div>\n",
       "<style scoped>\n",
       "    .dataframe tbody tr th:only-of-type {\n",
       "        vertical-align: middle;\n",
       "    }\n",
       "\n",
       "    .dataframe tbody tr th {\n",
       "        vertical-align: top;\n",
       "    }\n",
       "\n",
       "    .dataframe thead th {\n",
       "        text-align: right;\n",
       "    }\n",
       "</style>\n",
       "<table border=\"1\" class=\"dataframe\">\n",
       "  <thead>\n",
       "    <tr style=\"text-align: right;\">\n",
       "      <th></th>\n",
       "      <th>Description</th>\n",
       "      <th>date</th>\n",
       "      <th>count</th>\n",
       "      <th>prev_date</th>\n",
       "      <th>duration</th>\n",
       "    </tr>\n",
       "  </thead>\n",
       "  <tbody>\n",
       "    <tr>\n",
       "      <th>0</th>\n",
       "      <td>10 COLOUR SPACEBOY PEN</td>\n",
       "      <td>2011-01-05</td>\n",
       "      <td>1</td>\n",
       "      <td>NaT</td>\n",
       "      <td>NaT</td>\n",
       "    </tr>\n",
       "    <tr>\n",
       "      <th>1</th>\n",
       "      <td>10 COLOUR SPACEBOY PEN</td>\n",
       "      <td>2011-01-06</td>\n",
       "      <td>3</td>\n",
       "      <td>2011-01-05</td>\n",
       "      <td>1 days</td>\n",
       "    </tr>\n",
       "    <tr>\n",
       "      <th>2</th>\n",
       "      <td>10 COLOUR SPACEBOY PEN</td>\n",
       "      <td>2011-01-09</td>\n",
       "      <td>3</td>\n",
       "      <td>2011-01-06</td>\n",
       "      <td>3 days</td>\n",
       "    </tr>\n",
       "    <tr>\n",
       "      <th>3</th>\n",
       "      <td>10 COLOUR SPACEBOY PEN</td>\n",
       "      <td>2011-01-11</td>\n",
       "      <td>1</td>\n",
       "      <td>2011-01-09</td>\n",
       "      <td>2 days</td>\n",
       "    </tr>\n",
       "    <tr>\n",
       "      <th>4</th>\n",
       "      <td>10 COLOUR SPACEBOY PEN</td>\n",
       "      <td>2011-01-13</td>\n",
       "      <td>2</td>\n",
       "      <td>2011-01-11</td>\n",
       "      <td>2 days</td>\n",
       "    </tr>\n",
       "    <tr>\n",
       "      <th>...</th>\n",
       "      <td>...</td>\n",
       "      <td>...</td>\n",
       "      <td>...</td>\n",
       "      <td>...</td>\n",
       "      <td>...</td>\n",
       "    </tr>\n",
       "    <tr>\n",
       "      <th>255715</th>\n",
       "      <td>wrongly coded 20713</td>\n",
       "      <td>2011-10-06</td>\n",
       "      <td>1</td>\n",
       "      <td>NaT</td>\n",
       "      <td>NaT</td>\n",
       "    </tr>\n",
       "    <tr>\n",
       "      <th>255716</th>\n",
       "      <td>wrongly coded 23343</td>\n",
       "      <td>2011-10-27</td>\n",
       "      <td>1</td>\n",
       "      <td>NaT</td>\n",
       "      <td>NaT</td>\n",
       "    </tr>\n",
       "    <tr>\n",
       "      <th>255717</th>\n",
       "      <td>wrongly marked</td>\n",
       "      <td>2011-10-31</td>\n",
       "      <td>1</td>\n",
       "      <td>NaT</td>\n",
       "      <td>NaT</td>\n",
       "    </tr>\n",
       "    <tr>\n",
       "      <th>255718</th>\n",
       "      <td>wrongly marked 23343</td>\n",
       "      <td>2011-10-24</td>\n",
       "      <td>1</td>\n",
       "      <td>NaT</td>\n",
       "      <td>NaT</td>\n",
       "    </tr>\n",
       "    <tr>\n",
       "      <th>255719</th>\n",
       "      <td>wrongly sold (22719) barcode</td>\n",
       "      <td>2011-03-11</td>\n",
       "      <td>1</td>\n",
       "      <td>NaT</td>\n",
       "      <td>NaT</td>\n",
       "    </tr>\n",
       "  </tbody>\n",
       "</table>\n",
       "<p>568875 rows × 5 columns</p>\n",
       "</div>"
      ],
      "text/plain": [
       "                         Description       date  count  prev_date duration\n",
       "0             10 COLOUR SPACEBOY PEN 2011-01-05      1        NaT      NaT\n",
       "1             10 COLOUR SPACEBOY PEN 2011-01-06      3 2011-01-05   1 days\n",
       "2             10 COLOUR SPACEBOY PEN 2011-01-09      3 2011-01-06   3 days\n",
       "3             10 COLOUR SPACEBOY PEN 2011-01-11      1 2011-01-09   2 days\n",
       "4             10 COLOUR SPACEBOY PEN 2011-01-13      2 2011-01-11   2 days\n",
       "...                              ...        ...    ...        ...      ...\n",
       "255715           wrongly coded 20713 2011-10-06      1        NaT      NaT\n",
       "255716           wrongly coded 23343 2011-10-27      1        NaT      NaT\n",
       "255717                wrongly marked 2011-10-31      1        NaT      NaT\n",
       "255718          wrongly marked 23343 2011-10-24      1        NaT      NaT\n",
       "255719  wrongly sold (22719) barcode 2011-03-11      1        NaT      NaT\n",
       "\n",
       "[568875 rows x 5 columns]"
      ]
     },
     "execution_count": 87,
     "metadata": {},
     "output_type": "execute_result"
    }
   ],
   "source": [
    "empty_df"
   ]
  },
  {
   "cell_type": "code",
   "execution_count": 88,
   "id": "f811ad85-e88d-481a-8c95-a11a2aaa62b0",
   "metadata": {},
   "outputs": [],
   "source": [
    "empty_df['duration']=empty_df['duration'].astype('string').str.replace('days','')"
   ]
  },
  {
   "cell_type": "code",
   "execution_count": 89,
   "id": "656e7d2c-8545-40cd-b00d-6c245a8f6845",
   "metadata": {},
   "outputs": [],
   "source": [
    "empty_df['duration']=pd.to_numeric(empty_df['duration'],errors='coerce')"
   ]
  },
  {
   "cell_type": "code",
   "execution_count": 90,
   "id": "0ea359f8-0668-418a-b98a-ac7ae6251c0a",
   "metadata": {},
   "outputs": [],
   "source": [
    "\n",
    "ADI=empty_df.groupby('Description').agg(ADI=('duration','mean')).reset_index()"
   ]
  },
  {
   "cell_type": "code",
   "execution_count": 91,
   "id": "be26969d-a677-4cc2-be1d-acb2052bf041",
   "metadata": {},
   "outputs": [
    {
     "data": {
      "text/html": [
       "<div>\n",
       "<style scoped>\n",
       "    .dataframe tbody tr th:only-of-type {\n",
       "        vertical-align: middle;\n",
       "    }\n",
       "\n",
       "    .dataframe tbody tr th {\n",
       "        vertical-align: top;\n",
       "    }\n",
       "\n",
       "    .dataframe thead th {\n",
       "        text-align: right;\n",
       "    }\n",
       "</style>\n",
       "<table border=\"1\" class=\"dataframe\">\n",
       "  <thead>\n",
       "    <tr style=\"text-align: right;\">\n",
       "      <th></th>\n",
       "      <th>Description</th>\n",
       "      <th>ADI</th>\n",
       "    </tr>\n",
       "  </thead>\n",
       "  <tbody>\n",
       "    <tr>\n",
       "      <th>0</th>\n",
       "      <td>10 COLOUR SPACEBOY PEN</td>\n",
       "      <td>2.048485</td>\n",
       "    </tr>\n",
       "    <tr>\n",
       "      <th>1</th>\n",
       "      <td>12 COLOURED PARTY BALLOONS</td>\n",
       "      <td>2.894737</td>\n",
       "    </tr>\n",
       "    <tr>\n",
       "      <th>2</th>\n",
       "      <td>12 DAISY PEGS IN WOOD BOX</td>\n",
       "      <td>4.745763</td>\n",
       "    </tr>\n",
       "    <tr>\n",
       "      <th>3</th>\n",
       "      <td>12 EGG HOUSE PAINTED WOOD</td>\n",
       "      <td>4.60274</td>\n",
       "    </tr>\n",
       "    <tr>\n",
       "      <th>4</th>\n",
       "      <td>12 HANGING EGGS HAND PAINTED</td>\n",
       "      <td>4.4</td>\n",
       "    </tr>\n",
       "    <tr>\n",
       "      <th>...</th>\n",
       "      <td>...</td>\n",
       "      <td>...</td>\n",
       "    </tr>\n",
       "    <tr>\n",
       "      <th>3955</th>\n",
       "      <td>wrongly coded 20713</td>\n",
       "      <td>&lt;NA&gt;</td>\n",
       "    </tr>\n",
       "    <tr>\n",
       "      <th>3956</th>\n",
       "      <td>wrongly coded 23343</td>\n",
       "      <td>&lt;NA&gt;</td>\n",
       "    </tr>\n",
       "    <tr>\n",
       "      <th>3957</th>\n",
       "      <td>wrongly marked</td>\n",
       "      <td>&lt;NA&gt;</td>\n",
       "    </tr>\n",
       "    <tr>\n",
       "      <th>3958</th>\n",
       "      <td>wrongly marked 23343</td>\n",
       "      <td>&lt;NA&gt;</td>\n",
       "    </tr>\n",
       "    <tr>\n",
       "      <th>3959</th>\n",
       "      <td>wrongly sold (22719) barcode</td>\n",
       "      <td>&lt;NA&gt;</td>\n",
       "    </tr>\n",
       "  </tbody>\n",
       "</table>\n",
       "<p>3960 rows × 2 columns</p>\n",
       "</div>"
      ],
      "text/plain": [
       "                       Description       ADI\n",
       "0           10 COLOUR SPACEBOY PEN  2.048485\n",
       "1       12 COLOURED PARTY BALLOONS  2.894737\n",
       "2        12 DAISY PEGS IN WOOD BOX  4.745763\n",
       "3        12 EGG HOUSE PAINTED WOOD   4.60274\n",
       "4     12 HANGING EGGS HAND PAINTED       4.4\n",
       "...                            ...       ...\n",
       "3955           wrongly coded 20713      <NA>\n",
       "3956           wrongly coded 23343      <NA>\n",
       "3957                wrongly marked      <NA>\n",
       "3958          wrongly marked 23343      <NA>\n",
       "3959  wrongly sold (22719) barcode      <NA>\n",
       "\n",
       "[3960 rows x 2 columns]"
      ]
     },
     "execution_count": 91,
     "metadata": {},
     "output_type": "execute_result"
    }
   ],
   "source": [
    "ADI"
   ]
  },
  {
   "cell_type": "code",
   "execution_count": null,
   "id": "5acb988b-0d6a-4a67-aecf-914e57ddab27",
   "metadata": {},
   "outputs": [],
   "source": []
  },
  {
   "cell_type": "code",
   "execution_count": 92,
   "id": "9d5d880e-4d52-471c-8948-7053a89e09a1",
   "metadata": {},
   "outputs": [],
   "source": [
    "adi_cv=pd.merge(ADI,cv_data)"
   ]
  },
  {
   "cell_type": "code",
   "execution_count": 100,
   "id": "045acd35-be2c-453b-a4d4-887e2262a44f",
   "metadata": {},
   "outputs": [],
   "source": [
    "adi_cv.fillna(0,inplace=True)"
   ]
  },
  {
   "cell_type": "code",
   "execution_count": 101,
   "id": "d4a806ce-5a44-4f01-b95e-ae0e2c53dd0e",
   "metadata": {},
   "outputs": [],
   "source": [
    "def categorize(df):\n",
    " \n",
    "    if(df['ADI']<=1.34 and df['cv_squared']<0.49):\n",
    "        return 'smooth'\n",
    "    if(df['ADI']>1.34 and df['cv_squared']>=0.49):\n",
    "        return 'lumpy'\n",
    "    if(df['ADI']>1.34 and df['cv_squared']<0.49):\n",
    "        return 'Intermittent'\n",
    "    if(df['ADI']<=1.34 and df['cv_squared']>=0.49):\n",
    "        return 'Erratic'\n"
   ]
  },
  {
   "cell_type": "code",
   "execution_count": 102,
   "id": "8908a5c3-6f17-47e6-b4c0-b8da629f6bcc",
   "metadata": {},
   "outputs": [],
   "source": [
    "adi_cv['category']=adi_cv.apply(categorize,axis=1)"
   ]
  },
  {
   "cell_type": "code",
   "execution_count": 103,
   "id": "98834e6b-5392-4e19-8914-364668f9c72c",
   "metadata": {},
   "outputs": [
    {
     "data": {
      "text/plain": [
       "<Axes: xlabel='cv_squared', ylabel='ADI'>"
      ]
     },
     "execution_count": 103,
     "metadata": {},
     "output_type": "execute_result"
    },
    {
     "data": {
      "image/png": "[encoded data removed]",
      "text/plain": [
       "<Figure size 640x480 with 1 Axes>"
      ]
     },
     "metadata": {},
     "output_type": "display_data"
    }
   ],
   "source": [
    "sns.scatterplot(x='cv_squared',y='ADI',hue='category',data=adi_cv)"
   ]
  },
  {
   "cell_type": "code",
   "execution_count": 104,
   "id": "c3526aab-6baa-4cb6-a797-a560fda3f1b5",
   "metadata": {},
   "outputs": [
    {
     "data": {
      "text/plain": [
       "category\n",
       "lumpy           3037\n",
       "Intermittent     581\n",
       "smooth           201\n",
       "Erratic          141\n",
       "Name: count, dtype: int64"
      ]
     },
     "execution_count": 104,
     "metadata": {},
     "output_type": "execute_result"
    }
   ],
   "source": [
    "adi_cv['category'].value_counts()"
   ]
  },
  {
   "cell_type": "code",
   "execution_count": null,
   "id": "de6c975c-6726-480e-a67f-2faf7b4820c5",
   "metadata": {},
   "outputs": [],
   "source": []
  }
 ],
 "metadata": {
  "kernelspec": {
   "display_name": "Python 3 (ipykernel)",
   "language": "python",
   "name": "python3"
  },
  "language_info": {
   "codemirror_mode": {
    "name": "ipython",
    "version": 3
   },
   "file_extension": ".py",
   "mimetype": "text/x-python",
   "name": "python",
   "nbconvert_exporter": "python",
   "pygments_lexer": "ipython3",
   "version": "3.12.3"
  }
 },
 "nbformat": 4,
 "nbformat_minor": 5
}
