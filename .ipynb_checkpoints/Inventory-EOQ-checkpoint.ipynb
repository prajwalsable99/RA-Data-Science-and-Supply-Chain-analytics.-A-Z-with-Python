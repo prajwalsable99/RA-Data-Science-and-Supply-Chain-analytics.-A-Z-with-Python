{
 "cells": [
  {
   "cell_type": "code",
   "execution_count": 2,
   "id": "97c5b9c1-8db7-45b4-b3d4-5493a61f6446",
   "metadata": {},
   "outputs": [],
   "source": [
    "import numpy as np\n",
    "import pandas as pd\n",
    "import inventorize3 as inv"
   ]
  },
  {
   "cell_type": "markdown",
   "id": "279cee4c-eb38-4661-8339-35e1457db7b1",
   "metadata": {},
   "source": [
    "```\n",
    "In this exercise, we will solve this problem by using python  exactly as per the previous lecture.\n",
    "you are the supply chain manager of coffee co, a well-known brand for coffee Columbian blend\n",
    "coffee co takes raw coffee from its partner supplier in Columbia. the annual demand for raw coffee\n",
    "is 6000 tons per year, the price of one ton from the supplier is 1500 USD, assume a holding\n",
    "#rate of 10% while the cost of transportation and order is 4000 USD. what should be the optimal Q.\n",
    "what is the total logistics cost? what is your t practical? if the supplier will offer you a 10 % discount if your Q is 500, would you accept it?\n",
    "if the Lead time from the Columbian supplier is 2 months, what is the reorder point?\n",
    "\n",
    "\n",
    "```"
   ]
  },
  {
   "cell_type": "code",
   "execution_count": 3,
   "id": "53ce1760-4a06-4af8-96c9-074a8ac7f938",
   "metadata": {},
   "outputs": [],
   "source": [
    "d=6000\n",
    "s=4000\n",
    "c=1500\n",
    "h=0.1"
   ]
  },
  {
   "cell_type": "code",
   "execution_count": 4,
   "id": "8b108958-4c51-42f6-b96b-c37b1efa103f",
   "metadata": {},
   "outputs": [],
   "source": [
    "eoq=pd.DataFrame(inv.eoq(d,s,c,h),index=[0])"
   ]
  },
  {
   "cell_type": "code",
   "execution_count": 5,
   "id": "7cfeef3c-71fc-432e-929c-2e19d274d17b",
   "metadata": {},
   "outputs": [
    {
     "data": {
      "text/html": [
       "<div>\n",
       "<style scoped>\n",
       "    .dataframe tbody tr th:only-of-type {\n",
       "        vertical-align: middle;\n",
       "    }\n",
       "\n",
       "    .dataframe tbody tr th {\n",
       "        vertical-align: top;\n",
       "    }\n",
       "\n",
       "    .dataframe thead th {\n",
       "        text-align: right;\n",
       "    }\n",
       "</style>\n",
       "<table border=\"1\" class=\"dataframe\">\n",
       "  <thead>\n",
       "    <tr style=\"text-align: right;\">\n",
       "      <th></th>\n",
       "      <th>EOQ</th>\n",
       "      <th>T_years</th>\n",
       "      <th>T_weeks</th>\n",
       "    </tr>\n",
       "  </thead>\n",
       "  <tbody>\n",
       "    <tr>\n",
       "      <th>0</th>\n",
       "      <td>565.685425</td>\n",
       "      <td>0.094281</td>\n",
       "      <td>4.902607</td>\n",
       "    </tr>\n",
       "  </tbody>\n",
       "</table>\n",
       "</div>"
      ],
      "text/plain": [
       "          EOQ   T_years   T_weeks\n",
       "0  565.685425  0.094281  4.902607"
      ]
     },
     "execution_count": 5,
     "metadata": {},
     "output_type": "execute_result"
    }
   ],
   "source": [
    "eoq"
   ]
  },
  {
   "cell_type": "code",
   "execution_count": 8,
   "id": "f68def6e-9734-4486-907e-3a6654c3642a",
   "metadata": {},
   "outputs": [],
   "source": [
    "eoq1=eoq['EOQ'][0]"
   ]
  },
  {
   "cell_type": "code",
   "execution_count": 9,
   "id": "159762c4-416c-4546-9672-9c0dc60e45cf",
   "metadata": {},
   "outputs": [
    {
     "data": {
      "text/plain": [
       "np.float64(565.685424949238)"
      ]
     },
     "execution_count": 9,
     "metadata": {},
     "output_type": "execute_result"
    }
   ],
   "source": [
    "eoq1"
   ]
  },
  {
   "cell_type": "code",
   "execution_count": 10,
   "id": "deec59e5-fa8d-49bc-b596-776f334f17dd",
   "metadata": {},
   "outputs": [],
   "source": [
    "TLC= (d/eoq1)*s + (eoq1/2)*(h*c) + (c*d)"
   ]
  },
  {
   "cell_type": "code",
   "execution_count": 11,
   "id": "ce6e4a02-a627-4bc6-9902-dda62ed296bd",
   "metadata": {},
   "outputs": [
    {
     "data": {
      "text/plain": [
       "np.float64(9084852.813742386)"
      ]
     },
     "execution_count": 11,
     "metadata": {},
     "output_type": "execute_result"
    }
   ],
   "source": [
    "TLC"
   ]
  },
  {
   "cell_type": "code",
   "execution_count": 12,
   "id": "4b9c0401-c1e3-45b1-b594-46fcd1097b67",
   "metadata": {},
   "outputs": [
    {
     "data": {
      "text/plain": [
       "{'Ts': np.float64(0.09428090415820634),\n",
       " 'Tstarweeks': np.float64(4.90260701622673),\n",
       " 'Qstar': np.float64(565.685424949238),\n",
       " 'Tpractical': 4,\n",
       " 'Tpracticalweeks': 4,\n",
       " 'Qpractical': 461.53846153846155}"
      ]
     },
     "execution_count": 12,
     "metadata": {},
     "output_type": "execute_result"
    }
   ],
   "source": [
    "inv.TQpractical(d,s,c,h)"
   ]
  },
  {
   "cell_type": "code",
   "execution_count": 13,
   "id": "5cd79b53-3c95-4f67-b590-039eab85f4c4",
   "metadata": {},
   "outputs": [],
   "source": [
    "# at 10 % discount"
   ]
  },
  {
   "cell_type": "code",
   "execution_count": 16,
   "id": "86d64903-03cf-4dfb-a306-1bf7ad6518e2",
   "metadata": {},
   "outputs": [
    {
     "data": {
      "text/plain": [
       "8181535.714285715"
      ]
     },
     "execution_count": 16,
     "metadata": {},
     "output_type": "execute_result"
    }
   ],
   "source": [
    "TLC= (d/700)*s + (700/2)*(h*c*0.9) + (c*d*0.9)\n",
    "TLC"
   ]
  },
  {
   "cell_type": "code",
   "execution_count": 17,
   "id": "791d87cc-18d7-45dd-876f-7143f5ee4d72",
   "metadata": {},
   "outputs": [],
   "source": [
    "t=eoq1/d"
   ]
  },
  {
   "cell_type": "code",
   "execution_count": 18,
   "id": "06f994f0-45f0-4bfa-a056-1e99218e1778",
   "metadata": {},
   "outputs": [],
   "source": [
    "L=2/12"
   ]
  },
  {
   "cell_type": "code",
   "execution_count": 19,
   "id": "82659f07-2b43-4d78-823e-d3de85ff5853",
   "metadata": {},
   "outputs": [
    {
     "data": {
      "text/plain": [
       "np.True_"
      ]
     },
     "execution_count": 19,
     "metadata": {},
     "output_type": "execute_result"
    }
   ],
   "source": [
    "L>t"
   ]
  },
  {
   "cell_type": "code",
   "execution_count": 20,
   "id": "bd1cd185-6d19-42b4-a759-bb57d10b12b9",
   "metadata": {},
   "outputs": [
    {
     "data": {
      "text/plain": [
       "np.float64(434.3145750507619)"
      ]
     },
     "execution_count": 20,
     "metadata": {},
     "output_type": "execute_result"
    }
   ],
   "source": [
    "l_prime=L-(1*(eoq1/d))\n",
    "reorder_pt=l_prime*d\n",
    "reorder_pt"
   ]
  },
  {
   "cell_type": "code",
   "execution_count": null,
   "id": "e3eb07d1-d1d9-4636-af78-c71c2d432242",
   "metadata": {},
   "outputs": [],
   "source": []
  }
 ],
 "metadata": {
  "kernelspec": {
   "display_name": "Python 3 (ipykernel)",
   "language": "python",
   "name": "python3"
  },
  "language_info": {
   "codemirror_mode": {
    "name": "ipython",
    "version": 3
   },
   "file_extension": ".py",
   "mimetype": "text/x-python",
   "name": "python",
   "nbconvert_exporter": "python",
   "pygments_lexer": "ipython3",
   "version": "3.12.3"
  }
 },
 "nbformat": 4,
 "nbformat_minor": 5
}
