{
 "cells": [
  {
   "cell_type": "code",
   "execution_count": 1,
   "id": "4a9bd921-0663-4208-8f61-94ddf9f48fc9",
   "metadata": {},
   "outputs": [],
   "source": [
    "import numpy as np\n",
    "import pandas as pd\n",
    "import matplotlib.pyplot as plt\n",
    "import seaborn as sns\n",
    "import os\n",
    "from tqdm import tqdm\n",
    "import warnings\n",
    "warnings.filterwarnings('ignore')\n"
   ]
  },
  {
   "cell_type": "code",
   "execution_count": 2,
   "id": "a3e36e93-b936-4f67-a893-8053fadecdcf",
   "metadata": {},
   "outputs": [],
   "source": [
    "import inventorize3"
   ]
  },
  {
   "cell_type": "code",
   "execution_count": 3,
   "id": "ab09498b-776f-4b3f-9f42-04f98b79d2d0",
   "metadata": {},
   "outputs": [],
   "source": [
    "df=pd.read_csv('supplier_data.csv')"
   ]
  },
  {
   "cell_type": "code",
   "execution_count": 4,
   "id": "4d1ff1ab-9225-48d1-84ff-8de4130c4b5f",
   "metadata": {},
   "outputs": [
    {
     "data": {
      "text/html": [
       "<div>\n",
       "<style scoped>\n",
       "    .dataframe tbody tr th:only-of-type {\n",
       "        vertical-align: middle;\n",
       "    }\n",
       "\n",
       "    .dataframe tbody tr th {\n",
       "        vertical-align: top;\n",
       "    }\n",
       "\n",
       "    .dataframe thead th {\n",
       "        text-align: right;\n",
       "    }\n",
       "</style>\n",
       "<table border=\"1\" class=\"dataframe\">\n",
       "  <thead>\n",
       "    <tr style=\"text-align: right;\">\n",
       "      <th></th>\n",
       "      <th>supplier</th>\n",
       "      <th>product</th>\n",
       "      <th>availability</th>\n",
       "      <th>no_suppliers</th>\n",
       "      <th>standard</th>\n",
       "      <th>price_fluctuation</th>\n",
       "      <th>Quantity</th>\n",
       "      <th>price</th>\n",
       "    </tr>\n",
       "  </thead>\n",
       "  <tbody>\n",
       "    <tr>\n",
       "      <th>0</th>\n",
       "      <td>supplier1</td>\n",
       "      <td>product_1</td>\n",
       "      <td>0.0</td>\n",
       "      <td>0.5</td>\n",
       "      <td>0.0</td>\n",
       "      <td>0.5</td>\n",
       "      <td>710</td>\n",
       "      <td>360</td>\n",
       "    </tr>\n",
       "    <tr>\n",
       "      <th>1</th>\n",
       "      <td>supplier1</td>\n",
       "      <td>product_2</td>\n",
       "      <td>0.0</td>\n",
       "      <td>0.5</td>\n",
       "      <td>0.0</td>\n",
       "      <td>0.5</td>\n",
       "      <td>2997</td>\n",
       "      <td>2740</td>\n",
       "    </tr>\n",
       "    <tr>\n",
       "      <th>2</th>\n",
       "      <td>supplier1</td>\n",
       "      <td>product_3</td>\n",
       "      <td>0.0</td>\n",
       "      <td>0.5</td>\n",
       "      <td>0.0</td>\n",
       "      <td>0.5</td>\n",
       "      <td>3917</td>\n",
       "      <td>2919</td>\n",
       "    </tr>\n",
       "    <tr>\n",
       "      <th>3</th>\n",
       "      <td>supplier1</td>\n",
       "      <td>product_4</td>\n",
       "      <td>0.0</td>\n",
       "      <td>0.5</td>\n",
       "      <td>0.0</td>\n",
       "      <td>0.5</td>\n",
       "      <td>3827</td>\n",
       "      <td>3246</td>\n",
       "    </tr>\n",
       "    <tr>\n",
       "      <th>4</th>\n",
       "      <td>supplier1</td>\n",
       "      <td>product_5</td>\n",
       "      <td>0.0</td>\n",
       "      <td>0.5</td>\n",
       "      <td>0.0</td>\n",
       "      <td>0.0</td>\n",
       "      <td>3882</td>\n",
       "      <td>3596</td>\n",
       "    </tr>\n",
       "  </tbody>\n",
       "</table>\n",
       "</div>"
      ],
      "text/plain": [
       "    supplier    product  availability  no_suppliers  standard  \\\n",
       "0  supplier1  product_1           0.0           0.5       0.0   \n",
       "1  supplier1  product_2           0.0           0.5       0.0   \n",
       "2  supplier1  product_3           0.0           0.5       0.0   \n",
       "3  supplier1  product_4           0.0           0.5       0.0   \n",
       "4  supplier1  product_5           0.0           0.5       0.0   \n",
       "\n",
       "   price_fluctuation  Quantity  price  \n",
       "0                0.5       710    360  \n",
       "1                0.5      2997   2740  \n",
       "2                0.5      3917   2919  \n",
       "3                0.5      3827   3246  \n",
       "4                0.0      3882   3596  "
      ]
     },
     "execution_count": 4,
     "metadata": {},
     "output_type": "execute_result"
    }
   ],
   "source": [
    "df.head()"
   ]
  },
  {
   "cell_type": "code",
   "execution_count": 13,
   "id": "0cede239-c9ab-4bd9-8866-27d7d1eb92c0",
   "metadata": {},
   "outputs": [
    {
     "data": {
      "text/plain": [
       "(24, 10)"
      ]
     },
     "execution_count": 13,
     "metadata": {},
     "output_type": "execute_result"
    }
   ],
   "source": [
    "df.shape"
   ]
  },
  {
   "cell_type": "code",
   "execution_count": 5,
   "id": "03f01e5e-2dc5-4f9f-9f65-5b411d6ae228",
   "metadata": {},
   "outputs": [],
   "source": [
    "df['risk_index']=df['availability']+df['no_suppliers']+ df['standard']+df['price_fluctuation']"
   ]
  },
  {
   "cell_type": "code",
   "execution_count": 6,
   "id": "e3ad5622-df68-4ce4-b65e-9a0402b82672",
   "metadata": {},
   "outputs": [],
   "source": [
    "df['value']= df['price']* df['Quantity']"
   ]
  },
  {
   "cell_type": "code",
   "execution_count": 7,
   "id": "7f7d8925-4621-453a-8ced-29cde75d26ad",
   "metadata": {},
   "outputs": [
    {
     "data": {
      "text/plain": [
       "count    2.400000e+01\n",
       "mean     5.064812e+06\n",
       "std      4.847504e+06\n",
       "min      1.189500e+05\n",
       "25%      7.975622e+05\n",
       "50%      3.011452e+06\n",
       "75%      8.499426e+06\n",
       "max      1.399081e+07\n",
       "Name: value, dtype: float64"
      ]
     },
     "execution_count": 7,
     "metadata": {},
     "output_type": "execute_result"
    }
   ],
   "source": [
    "df['value'].describe()"
   ]
  },
  {
   "cell_type": "code",
   "execution_count": 29,
   "id": "742a2cd9-c3bb-4a24-a3e3-e48b207f9a58",
   "metadata": {},
   "outputs": [
    {
     "data": {
      "text/plain": [
       "np.float64(3011452.5)"
      ]
     },
     "execution_count": 29,
     "metadata": {},
     "output_type": "execute_result"
    }
   ],
   "source": [
    "df['value'].describe()['50%']"
   ]
  },
  {
   "cell_type": "code",
   "execution_count": 10,
   "id": "aba1ee55-e6c5-43f2-b936-1777cae9fc33",
   "metadata": {},
   "outputs": [],
   "source": [
    "def category(x,y):\n",
    "    if( x>=3000000 and y>=1):\n",
    "        return 'strategic'\n",
    "    if( x>=3000000 and y<1):\n",
    "        return 'leverage'\n",
    "    if( x<3000000 and y<1):\n",
    "        return 'critical'\n",
    "    if( x<3000000 and y>=1):\n",
    "        return 'routine'"
   ]
  },
  {
   "cell_type": "code",
   "execution_count": 24,
   "id": "ff949ce6-99a7-4a59-80c5-1d6eb4c9ea89",
   "metadata": {},
   "outputs": [],
   "source": [
    "cats=[]\n",
    "\n",
    "for i in range(df.shape[0]):\n",
    "    x=df.iloc[i]['value']\n",
    "    y=df.iloc[i]['risk_index']\n",
    "    cats.append(category(x,y))"
   ]
  },
  {
   "cell_type": "code",
   "execution_count": 23,
   "id": "d852b21d-d786-4e0c-91da-9862d335bbff",
   "metadata": {},
   "outputs": [
    {
     "data": {
      "text/plain": [
       "np.int64(8211780)"
      ]
     },
     "execution_count": 23,
     "metadata": {},
     "output_type": "execute_result"
    }
   ],
   "source": [
    "\n",
    "df.iloc[1]['value']"
   ]
  },
  {
   "cell_type": "code",
   "execution_count": 26,
   "id": "a5223830-a1d5-40a3-aa23-76289f4a1690",
   "metadata": {},
   "outputs": [],
   "source": [
    "df['category']=cats"
   ]
  },
  {
   "cell_type": "code",
   "execution_count": 27,
   "id": "32880acb-c721-44e9-8d2b-8afc7f81441b",
   "metadata": {},
   "outputs": [
    {
     "data": {
      "text/plain": [
       "category\n",
       "routine      10\n",
       "strategic     8\n",
       "leverage      4\n",
       "critical      2\n",
       "Name: count, dtype: int64"
      ]
     },
     "execution_count": 27,
     "metadata": {},
     "output_type": "execute_result"
    }
   ],
   "source": [
    "df['category'].value_counts()"
   ]
  },
  {
   "cell_type": "code",
   "execution_count": 28,
   "id": "44576e2d-c1ba-48d1-9223-7016c5d75eb4",
   "metadata": {},
   "outputs": [
    {
     "data": {
      "text/plain": [
       "<Axes: xlabel='value', ylabel='risk_index'>"
      ]
     },
     "execution_count": 28,
     "metadata": {},
     "output_type": "execute_result"
    },
    {
     "data": {
      "image/png": "[encoded data removed]",
      "text/plain": [
       "<Figure size 640x480 with 1 Axes>"
      ]
     },
     "metadata": {},
     "output_type": "display_data"
    }
   ],
   "source": [
    "sns.scatterplot(x='value',y='risk_index',data=df,hue='category')"
   ]
  },
  {
   "cell_type": "code",
   "execution_count": null,
   "id": "dec89de1-580a-4b04-bc32-20ad13a16c88",
   "metadata": {},
   "outputs": [],
   "source": []
  }
 ],
 "metadata": {
  "kernelspec": {
   "display_name": "Python 3 (ipykernel)",
   "language": "python",
   "name": "python3"
  },
  "language_info": {
   "codemirror_mode": {
    "name": "ipython",
    "version": 3
   },
   "file_extension": ".py",
   "mimetype": "text/x-python",
   "name": "python",
   "nbconvert_exporter": "python",
   "pygments_lexer": "ipython3",
   "version": "3.12.3"
  }
 },
 "nbformat": 4,
 "nbformat_minor": 5
}
