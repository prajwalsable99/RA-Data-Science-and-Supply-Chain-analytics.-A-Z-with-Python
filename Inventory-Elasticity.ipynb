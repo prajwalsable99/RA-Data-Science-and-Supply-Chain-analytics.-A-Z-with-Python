{
 "cells": [
  {
   "cell_type": "code",
   "execution_count": 1,
   "id": "23ef0b5d-2221-4d3d-afb4-bcb6889779f6",
   "metadata": {},
   "outputs": [],
   "source": [
    "import pandas as pd\n",
    "import numpy as np\n",
    "import matplotlib.pyplot as plt"
   ]
  },
  {
   "cell_type": "code",
   "execution_count": 2,
   "id": "c707cfe2-8c51-43ee-8475-6b0066e2f369",
   "metadata": {},
   "outputs": [
    {
     "name": "stdout",
     "output_type": "stream",
     "text": [
      "<class 'pandas.core.frame.DataFrame'>\n",
      "RangeIndex: 779495 entries, 0 to 779494\n",
      "Data columns (total 10 columns):\n",
      " #   Column       Non-Null Count   Dtype  \n",
      "---  ------       --------------   -----  \n",
      " 0   Unnamed: 0   779495 non-null  int64  \n",
      " 1   Invoice      779495 non-null  int64  \n",
      " 2   StockCode    779495 non-null  object \n",
      " 3   Description  779495 non-null  object \n",
      " 4   Quantity     779495 non-null  int64  \n",
      " 5   InvoiceDate  779495 non-null  object \n",
      " 6   Price        779495 non-null  float64\n",
      " 7   Customer ID  779495 non-null  float64\n",
      " 8   Country      779495 non-null  object \n",
      " 9   Revenue      779495 non-null  float64\n",
      "dtypes: float64(3), int64(3), object(4)\n",
      "memory usage: 59.5+ MB\n"
     ]
    }
   ],
   "source": [
    "df=pd.read_csv('./retail_clean.csv')\n",
    "df.info()"
   ]
  },
  {
   "cell_type": "code",
   "execution_count": 3,
   "id": "af7aeb42-2477-4240-8cfe-0ac2736761c8",
   "metadata": {},
   "outputs": [],
   "source": [
    "df=df.drop_duplicates()\n",
    "df=df.dropna(axis=0)"
   ]
  },
  {
   "cell_type": "code",
   "execution_count": 4,
   "id": "351ee69d-08fa-4e6e-ae15-14c7d0031047",
   "metadata": {},
   "outputs": [
    {
     "data": {
      "text/plain": [
       "(779495, 10)"
      ]
     },
     "execution_count": 4,
     "metadata": {},
     "output_type": "execute_result"
    }
   ],
   "source": [
    "df.shape"
   ]
  },
  {
   "cell_type": "code",
   "execution_count": 5,
   "id": "ab47c587-2b96-42fd-a72b-609b6918e337",
   "metadata": {},
   "outputs": [],
   "source": [
    "import datetime\n",
    "df['date']=pd.to_datetime(df['InvoiceDate']).dt.strftime('%Y-%m-%d')\n",
    "df['date']=pd.to_datetime(df['date'])\n"
   ]
  },
  {
   "cell_type": "code",
   "execution_count": 6,
   "id": "4389f8a2-64d0-4822-b0ec-930d570d8b56",
   "metadata": {},
   "outputs": [],
   "source": [
    "df['weekyear']=df['date'].dt.strftime('%W %Y')"
   ]
  },
  {
   "cell_type": "code",
   "execution_count": 7,
   "id": "218b9beb-9828-4060-9d6e-2d23fbc02a61",
   "metadata": {},
   "outputs": [],
   "source": [
    "weekly_sales=df.groupby(['Description','weekyear']).agg(total_sales=('Quantity','sum'),price=('Price','mean')).reset_index()"
   ]
  },
  {
   "cell_type": "code",
   "execution_count": 8,
   "id": "67db71c8-8935-471f-902b-573bb286f5a6",
   "metadata": {},
   "outputs": [
    {
     "data": {
      "text/plain": [
       "(5283,)"
      ]
     },
     "execution_count": 8,
     "metadata": {},
     "output_type": "execute_result"
    }
   ],
   "source": [
    "keys= weekly_sales.Description.unique()\n",
    "keys.shape"
   ]
  },
  {
   "cell_type": "code",
   "execution_count": 9,
   "id": "fadb1d36-651d-4cf2-a9c6-0f2a5bf91f4a",
   "metadata": {},
   "outputs": [],
   "source": [
    "import inventorize3 as inv\n",
    "from sklearn.linear_model import LinearRegression"
   ]
  },
  {
   "cell_type": "code",
   "execution_count": 10,
   "id": "7781cd7a-b8a9-47b2-90fa-1097da385040",
   "metadata": {},
   "outputs": [],
   "source": [
    "from tqdm import tqdm\n",
    "import warnings\n",
    "warnings.filterwarnings('ignore')"
   ]
  },
  {
   "cell_type": "code",
   "execution_count": 14,
   "id": "187d9730-7b97-41dc-9526-6090eb1242c2",
   "metadata": {},
   "outputs": [
    {
     "name": "stderr",
     "output_type": "stream",
     "text": [
      "100%|██████████████████████████████████████████████████████████████████████████████| 5283/5283 [01:15<00:00, 69.76it/s]\n"
     ]
    }
   ],
   "source": [
    "\n",
    "empty_data=[]\n",
    "\n",
    "for key in tqdm(keys):\n",
    "    try:\n",
    "        a= weekly_sales[weekly_sales.Description==key]\n",
    "      \n",
    "        cost =0.4 *max(a['price'])\n",
    "        curr_price=a['price'].mean()\n",
    "        elasticity= inv.linear_elasticity(a['price'],a['total_sales'],curr_price,cost)\n",
    "        elasticity['sku']=key\n",
    "        empty_data.append(elasticity)\n",
    "    except:\n",
    "        pass\n",
    "\n",
    "    "
   ]
  },
  {
   "cell_type": "code",
   "execution_count": null,
   "id": "865df14b-837c-4418-a6b2-6ec337e07565",
   "metadata": {},
   "outputs": [],
   "source": []
  },
  {
   "cell_type": "code",
   "execution_count": 36,
   "id": "05a3cc48-cba1-48b6-bffd-49e0b7550a7a",
   "metadata": {},
   "outputs": [],
   "source": [
    "elas_df=pd.DataFrame(empty_data)"
   ]
  },
  {
   "cell_type": "code",
   "execution_count": 37,
   "id": "0d6836ad-9575-483d-a48d-fb7e6b014844",
   "metadata": {},
   "outputs": [
    {
     "data": {
      "text/html": [
       "<div>\n",
       "<style scoped>\n",
       "    .dataframe tbody tr th:only-of-type {\n",
       "        vertical-align: middle;\n",
       "    }\n",
       "\n",
       "    .dataframe tbody tr th {\n",
       "        vertical-align: top;\n",
       "    }\n",
       "\n",
       "    .dataframe thead th {\n",
       "        text-align: right;\n",
       "    }\n",
       "</style>\n",
       "<table border=\"1\" class=\"dataframe\">\n",
       "  <thead>\n",
       "    <tr style=\"text-align: right;\">\n",
       "      <th></th>\n",
       "      <th>Elasticity</th>\n",
       "      <th>optimum_price_profit</th>\n",
       "      <th>optimum_price_revenue</th>\n",
       "      <th>sku</th>\n",
       "    </tr>\n",
       "  </thead>\n",
       "  <tbody>\n",
       "    <tr>\n",
       "      <th>0</th>\n",
       "      <td>[[0.23619618675243825]]</td>\n",
       "      <td>[[18.64737718730144]]</td>\n",
       "      <td>[[17.29737718730144]]</td>\n",
       "      <td>DOORMAT UNION JACK GUNS AND ROSES</td>\n",
       "    </tr>\n",
       "    <tr>\n",
       "      <th>1</th>\n",
       "      <td>[[5.031167073926131]]</td>\n",
       "      <td>[[1.9070227964425617]]</td>\n",
       "      <td>[[1.3970227964425617]]</td>\n",
       "      <td>4 PURPLE FLOCK DINNER CANDLES</td>\n",
       "    </tr>\n",
       "    <tr>\n",
       "      <th>2</th>\n",
       "      <td>[[2.3171575208591264]]</td>\n",
       "      <td>[[4.362780028444914]]</td>\n",
       "      <td>[[3.372780028444914]]</td>\n",
       "      <td>FLAMINGO LIGHTS</td>\n",
       "    </tr>\n",
       "    <tr>\n",
       "      <th>3</th>\n",
       "      <td>[[9.924641608055682]]</td>\n",
       "      <td>[[11.116022012578613]]</td>\n",
       "      <td>[[8.126022012578613]]</td>\n",
       "      <td>NINE DRAWER OFFICE TIDY</td>\n",
       "    </tr>\n",
       "    <tr>\n",
       "      <th>4</th>\n",
       "      <td>[[10.182036370740212]]</td>\n",
       "      <td>[[7.3668925975017086]]</td>\n",
       "      <td>[[5.376892597501708]]</td>\n",
       "      <td>OVAL WALL MIRROR DIAMANTE</td>\n",
       "    </tr>\n",
       "  </tbody>\n",
       "</table>\n",
       "</div>"
      ],
      "text/plain": [
       "                Elasticity    optimum_price_profit   optimum_price_revenue  \\\n",
       "0  [[0.23619618675243825]]   [[18.64737718730144]]   [[17.29737718730144]]   \n",
       "1    [[5.031167073926131]]  [[1.9070227964425617]]  [[1.3970227964425617]]   \n",
       "2   [[2.3171575208591264]]   [[4.362780028444914]]   [[3.372780028444914]]   \n",
       "3    [[9.924641608055682]]  [[11.116022012578613]]   [[8.126022012578613]]   \n",
       "4   [[10.182036370740212]]  [[7.3668925975017086]]   [[5.376892597501708]]   \n",
       "\n",
       "                                   sku  \n",
       "0    DOORMAT UNION JACK GUNS AND ROSES  \n",
       "1        4 PURPLE FLOCK DINNER CANDLES  \n",
       "2                      FLAMINGO LIGHTS  \n",
       "3              NINE DRAWER OFFICE TIDY  \n",
       "4           OVAL WALL MIRROR DIAMANTE   "
      ]
     },
     "execution_count": 37,
     "metadata": {},
     "output_type": "execute_result"
    }
   ],
   "source": [
    "elas_df.head()"
   ]
  },
  {
   "cell_type": "code",
   "execution_count": 38,
   "id": "5d599f72-fd7b-4622-a936-0c5f60f01263",
   "metadata": {},
   "outputs": [],
   "source": [
    "def formatCol(x):\n",
    "    return x[0][0]\n",
    "    "
   ]
  },
  {
   "cell_type": "code",
   "execution_count": 39,
   "id": "a3e06aff-f98a-4a7c-93b6-575cf5be85ff",
   "metadata": {},
   "outputs": [],
   "source": [
    "elas_df['Elasticity']=elas_df['Elasticity'].apply(formatCol)\n",
    "elas_df['optimum_price_profit']=elas_df['optimum_price_profit'].apply(formatCol)\n",
    "elas_df['optimum_price_revenue']=elas_df['optimum_price_revenue'].apply(formatCol)"
   ]
  },
  {
   "cell_type": "code",
   "execution_count": null,
   "id": "3cb21100-dd1e-487e-bc9b-789f685ea5b7",
   "metadata": {},
   "outputs": [],
   "source": []
  },
  {
   "cell_type": "code",
   "execution_count": 40,
   "id": "f6909e1a-4ef4-4fe4-be18-495c5d67201c",
   "metadata": {},
   "outputs": [
    {
     "data": {
      "text/html": [
       "<div>\n",
       "<style scoped>\n",
       "    .dataframe tbody tr th:only-of-type {\n",
       "        vertical-align: middle;\n",
       "    }\n",
       "\n",
       "    .dataframe tbody tr th {\n",
       "        vertical-align: top;\n",
       "    }\n",
       "\n",
       "    .dataframe thead th {\n",
       "        text-align: right;\n",
       "    }\n",
       "</style>\n",
       "<table border=\"1\" class=\"dataframe\">\n",
       "  <thead>\n",
       "    <tr style=\"text-align: right;\">\n",
       "      <th></th>\n",
       "      <th>Elasticity</th>\n",
       "      <th>optimum_price_profit</th>\n",
       "      <th>optimum_price_revenue</th>\n",
       "      <th>sku</th>\n",
       "    </tr>\n",
       "  </thead>\n",
       "  <tbody>\n",
       "    <tr>\n",
       "      <th>0</th>\n",
       "      <td>0.236196</td>\n",
       "      <td>18.647377</td>\n",
       "      <td>17.297377</td>\n",
       "      <td>DOORMAT UNION JACK GUNS AND ROSES</td>\n",
       "    </tr>\n",
       "    <tr>\n",
       "      <th>1</th>\n",
       "      <td>5.031167</td>\n",
       "      <td>1.907023</td>\n",
       "      <td>1.397023</td>\n",
       "      <td>4 PURPLE FLOCK DINNER CANDLES</td>\n",
       "    </tr>\n",
       "    <tr>\n",
       "      <th>2</th>\n",
       "      <td>2.317158</td>\n",
       "      <td>4.362780</td>\n",
       "      <td>3.372780</td>\n",
       "      <td>FLAMINGO LIGHTS</td>\n",
       "    </tr>\n",
       "    <tr>\n",
       "      <th>3</th>\n",
       "      <td>9.924642</td>\n",
       "      <td>11.116022</td>\n",
       "      <td>8.126022</td>\n",
       "      <td>NINE DRAWER OFFICE TIDY</td>\n",
       "    </tr>\n",
       "    <tr>\n",
       "      <th>4</th>\n",
       "      <td>10.182036</td>\n",
       "      <td>7.366893</td>\n",
       "      <td>5.376893</td>\n",
       "      <td>OVAL WALL MIRROR DIAMANTE</td>\n",
       "    </tr>\n",
       "    <tr>\n",
       "      <th>...</th>\n",
       "      <td>...</td>\n",
       "      <td>...</td>\n",
       "      <td>...</td>\n",
       "      <td>...</td>\n",
       "    </tr>\n",
       "    <tr>\n",
       "      <th>1944</th>\n",
       "      <td>0.522260</td>\n",
       "      <td>1.670030</td>\n",
       "      <td>1.404696</td>\n",
       "      <td>ZINC T-LIGHT HOLDER STAR LARGE</td>\n",
       "    </tr>\n",
       "    <tr>\n",
       "      <th>1945</th>\n",
       "      <td>6.455125</td>\n",
       "      <td>12.002371</td>\n",
       "      <td>8.612371</td>\n",
       "      <td>ZINC TOP  2 DOOR WOODEN SHELF</td>\n",
       "    </tr>\n",
       "    <tr>\n",
       "      <th>1946</th>\n",
       "      <td>0.410898</td>\n",
       "      <td>1.691342</td>\n",
       "      <td>1.469342</td>\n",
       "      <td>ZINC WILLIE WINKIE  CANDLE STICK</td>\n",
       "    </tr>\n",
       "    <tr>\n",
       "      <th>1947</th>\n",
       "      <td>5.966357</td>\n",
       "      <td>7.613621</td>\n",
       "      <td>5.533621</td>\n",
       "      <td>ZINC WIRE KITCHEN ORGANISER</td>\n",
       "    </tr>\n",
       "    <tr>\n",
       "      <th>1948</th>\n",
       "      <td>2.604074</td>\n",
       "      <td>3.198716</td>\n",
       "      <td>2.448716</td>\n",
       "      <td>ZINC WIRE SWEETHEART LETTER TRAY</td>\n",
       "    </tr>\n",
       "  </tbody>\n",
       "</table>\n",
       "<p>1949 rows × 4 columns</p>\n",
       "</div>"
      ],
      "text/plain": [
       "      Elasticity  optimum_price_profit  optimum_price_revenue  \\\n",
       "0       0.236196             18.647377              17.297377   \n",
       "1       5.031167              1.907023               1.397023   \n",
       "2       2.317158              4.362780               3.372780   \n",
       "3       9.924642             11.116022               8.126022   \n",
       "4      10.182036              7.366893               5.376893   \n",
       "...          ...                   ...                    ...   \n",
       "1944    0.522260              1.670030               1.404696   \n",
       "1945    6.455125             12.002371               8.612371   \n",
       "1946    0.410898              1.691342               1.469342   \n",
       "1947    5.966357              7.613621               5.533621   \n",
       "1948    2.604074              3.198716               2.448716   \n",
       "\n",
       "                                      sku  \n",
       "0       DOORMAT UNION JACK GUNS AND ROSES  \n",
       "1           4 PURPLE FLOCK DINNER CANDLES  \n",
       "2                         FLAMINGO LIGHTS  \n",
       "3                 NINE DRAWER OFFICE TIDY  \n",
       "4              OVAL WALL MIRROR DIAMANTE   \n",
       "...                                   ...  \n",
       "1944       ZINC T-LIGHT HOLDER STAR LARGE  \n",
       "1945       ZINC TOP  2 DOOR WOODEN SHELF   \n",
       "1946     ZINC WILLIE WINKIE  CANDLE STICK  \n",
       "1947          ZINC WIRE KITCHEN ORGANISER  \n",
       "1948     ZINC WIRE SWEETHEART LETTER TRAY  \n",
       "\n",
       "[1949 rows x 4 columns]"
      ]
     },
     "execution_count": 40,
     "metadata": {},
     "output_type": "execute_result"
    }
   ],
   "source": [
    "elas_df"
   ]
  },
  {
   "cell_type": "code",
   "execution_count": null,
   "id": "40fcabdd-c468-47c3-9657-82912a63d256",
   "metadata": {},
   "outputs": [],
   "source": []
  }
 ],
 "metadata": {
  "kernelspec": {
   "display_name": "Python 3 (ipykernel)",
   "language": "python",
   "name": "python3"
  },
  "language_info": {
   "codemirror_mode": {
    "name": "ipython",
    "version": 3
   },
   "file_extension": ".py",
   "mimetype": "text/x-python",
   "name": "python",
   "nbconvert_exporter": "python",
   "pygments_lexer": "ipython3",
   "version": "3.12.3"
  }
 },
 "nbformat": 4,
 "nbformat_minor": 5
}
