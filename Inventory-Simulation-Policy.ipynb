{
 "cells": [
  {
   "cell_type": "code",
   "execution_count": 1,
   "id": "8d994c8a-0c94-496f-9dd6-9e3f5771f546",
   "metadata": {},
   "outputs": [],
   "source": [
    "import pandas as pd\n",
    "import inventorize3 as inv\n"
   ]
  },
  {
   "cell_type": "code",
   "execution_count": 2,
   "id": "87bf4179-3e7d-4627-9b8b-407acc7a5d13",
   "metadata": {},
   "outputs": [
    {
     "data": {
      "text/html": [
       "<div>\n",
       "<style scoped>\n",
       "    .dataframe tbody tr th:only-of-type {\n",
       "        vertical-align: middle;\n",
       "    }\n",
       "\n",
       "    .dataframe tbody tr th {\n",
       "        vertical-align: top;\n",
       "    }\n",
       "\n",
       "    .dataframe thead th {\n",
       "        text-align: right;\n",
       "    }\n",
       "</style>\n",
       "<table border=\"1\" class=\"dataframe\">\n",
       "  <thead>\n",
       "    <tr style=\"text-align: right;\">\n",
       "      <th></th>\n",
       "      <th>Day</th>\n",
       "      <th>Pinapple juice</th>\n",
       "      <th>Price</th>\n",
       "    </tr>\n",
       "  </thead>\n",
       "  <tbody>\n",
       "    <tr>\n",
       "      <th>0</th>\n",
       "      <td>1</td>\n",
       "      <td>131</td>\n",
       "      <td>1.38</td>\n",
       "    </tr>\n",
       "    <tr>\n",
       "      <th>1</th>\n",
       "      <td>2</td>\n",
       "      <td>147</td>\n",
       "      <td>1.06</td>\n",
       "    </tr>\n",
       "    <tr>\n",
       "      <th>2</th>\n",
       "      <td>3</td>\n",
       "      <td>101</td>\n",
       "      <td>1.98</td>\n",
       "    </tr>\n",
       "    <tr>\n",
       "      <th>3</th>\n",
       "      <td>4</td>\n",
       "      <td>139</td>\n",
       "      <td>1.22</td>\n",
       "    </tr>\n",
       "    <tr>\n",
       "      <th>4</th>\n",
       "      <td>5</td>\n",
       "      <td>121</td>\n",
       "      <td>1.58</td>\n",
       "    </tr>\n",
       "  </tbody>\n",
       "</table>\n",
       "</div>"
      ],
      "text/plain": [
       "   Day  Pinapple juice  Price\n",
       "0    1             131   1.38\n",
       "1    2             147   1.06\n",
       "2    3             101   1.98\n",
       "3    4             139   1.22\n",
       "4    5             121   1.58"
      ]
     },
     "execution_count": 2,
     "metadata": {},
     "output_type": "execute_result"
    }
   ],
   "source": [
    "df=pd.read_csv('./Pinapple_juice.csv')\n",
    "df.head()"
   ]
  },
  {
   "cell_type": "code",
   "execution_count": 3,
   "id": "92419e9d-1e2b-4038-a05e-7a62d07139d9",
   "metadata": {},
   "outputs": [
    {
     "name": "stdout",
     "output_type": "stream",
     "text": [
      "<class 'pandas.core.frame.DataFrame'>\n",
      "RangeIndex: 366 entries, 0 to 365\n",
      "Data columns (total 3 columns):\n",
      " #   Column          Non-Null Count  Dtype  \n",
      "---  ------          --------------  -----  \n",
      " 0   Day             366 non-null    int64  \n",
      " 1   Pinapple juice  366 non-null    int64  \n",
      " 2   Price           366 non-null    float64\n",
      "dtypes: float64(1), int64(2)\n",
      "memory usage: 8.7 KB\n"
     ]
    }
   ],
   "source": [
    "df.info()"
   ]
  },
  {
   "cell_type": "code",
   "execution_count": 4,
   "id": "84869612-ab57-4dcc-b3f6-eaf3608ad3c4",
   "metadata": {},
   "outputs": [],
   "source": [
    "demand=df['Pinapple juice']\n",
    "leadtime=7\n",
    "mean=demand.mean()\n",
    "sd=demand.std()"
   ]
  },
  {
   "cell_type": "code",
   "execution_count": 14,
   "id": "a12e4616-fac2-4c88-b0d5-4361b0ca1d77",
   "metadata": {},
   "outputs": [],
   "source": [
    "pine_sq= inv.sim_min_Q_normal(demand,mean,sd,leadtime=leadtime,service_level=0.8,ordering_cost=100,inventory_cost=1,Quantity=3000)"
   ]
  },
  {
   "cell_type": "code",
   "execution_count": 15,
   "id": "348c87a1-6930-43c1-8006-733506ad0b5d",
   "metadata": {},
   "outputs": [],
   "source": [
    "pine_base= inv.sim_base_normal(demand,mean,sd,leadtime=leadtime,service_level=0.8,ordering_cost=100,inventory_cost=5)"
   ]
  },
  {
   "cell_type": "code",
   "execution_count": 16,
   "id": "ba73f5d2-8aeb-4e42-8a34-6217ee082100",
   "metadata": {},
   "outputs": [],
   "source": [
    "pine_minmax= inv.sim_min_max_normal(demand,mean,sd,leadtime=leadtime,Max=1100,service_level=0.8,ordering_cost=100,inventory_cost=5)"
   ]
  },
  {
   "cell_type": "code",
   "execution_count": 17,
   "id": "c06e04e0-9644-4c86-b223-84ec372168b4",
   "metadata": {},
   "outputs": [],
   "source": [
    "pine_periodic= inv.Periodic_review_normal(demand,mean,sd,leadtime=leadtime,service_level=0.8,ordering_cost=100,inventory_cost=5,Review_period=7)"
   ]
  },
  {
   "cell_type": "code",
   "execution_count": 18,
   "id": "cf14f3cb-1a4c-461a-8ba1-213d3fb07e8e",
   "metadata": {},
   "outputs": [],
   "source": [
    "pine_hybrid= inv.Hibrid_normal(demand,mean,sd,leadtime=leadtime,service_level=0.8,Min=20,ordering_cost=100,inventory_cost=5,Review_period=7)"
   ]
  },
  {
   "cell_type": "code",
   "execution_count": 21,
   "id": "6da8c745-6771-43d1-a9ce-3a3b918e3cbe",
   "metadata": {},
   "outputs": [
    {
     "data": {
      "text/plain": [
       "({'shortage_cost': 0.0,\n",
       "  'inventory_cost': 530184.0,\n",
       "  'average_inventory_level': np.float64(1444.6430517711171),\n",
       "  'ordering_cost': 1600,\n",
       "  'total_lost_sales': 474.0,\n",
       "  'Item_fill_rate': np.float64(0.9900558049762934),\n",
       "  'cycle_service_level': 0.9781420765027322,\n",
       "  'saftey_stock': np.float64(47.47812501082669)},\n",
       " {'shortage_cost': 0.0,\n",
       "  'inventory_cost': 127155.0,\n",
       "  'average_inventory_level': np.float64(69.29427792915531),\n",
       "  'ordering_cost': 36600,\n",
       "  'total_lost_sales': 610.0,\n",
       "  'Item_fill_rate': np.float64(0.9872026182184366),\n",
       "  'cycle_service_level': 0.9153005464480874,\n",
       "  'saftey_stock': np.float64(47.47812501082669)},\n",
       " {'shortage_cost': 0.0,\n",
       "  'inventory_cost': 156895.0,\n",
       "  'average_inventory_level': np.float64(85.50136239782016),\n",
       "  'ordering_cost': 20700,\n",
       "  'total_lost_sales': 3078.0,\n",
       "  'Item_fill_rate': np.float64(0.935425670289095),\n",
       "  'cycle_service_level': 0.7595628415300546,\n",
       "  'saftey_stock': np.float64(47.47812501082669)},\n",
       " {'shortage_cost': 0.0,\n",
       "  'inventory_cost': 894025.0,\n",
       "  'average_inventory_level': np.float64(487.20708446866485),\n",
       "  'ordering_cost': 5200,\n",
       "  'total_lost_sales': 253.0,\n",
       "  'Item_fill_rate': np.float64(0.9946922334578105),\n",
       "  'cycle_service_level': 0.9836065573770492,\n",
       "  'saftey_stock': np.float64(67.14420830635635)},\n",
       " {'shortage_cost': 0.0,\n",
       "  'inventory_cost': 894025.0,\n",
       "  'average_inventory_level': np.float64(487.20708446866485),\n",
       "  'ordering_cost': 5200,\n",
       "  'total_lost_sales': 253.0,\n",
       "  'Item_fill_rate': np.float64(0.9946922334578105),\n",
       "  'cycle_service_level': 0.9836065573770492,\n",
       "  'saftey_stock': np.float64(67.14420830635635)})"
      ]
     },
     "execution_count": 21,
     "metadata": {},
     "output_type": "execute_result"
    }
   ],
   "source": [
    "pine_sq[1],pine_base[1],pine_minmax[1],pine_periodic[1],pine_hybrid[1]"
   ]
  },
  {
   "cell_type": "code",
   "execution_count": null,
   "id": "8e882959-385b-40df-b121-3b3c6eeebe98",
   "metadata": {},
   "outputs": [],
   "source": []
  },
  {
   "cell_type": "code",
   "execution_count": null,
   "id": "f7bef458-b99d-43b1-9036-c37120054573",
   "metadata": {},
   "outputs": [],
   "source": []
  }
 ],
 "metadata": {
  "kernelspec": {
   "display_name": "Python 3 (ipykernel)",
   "language": "python",
   "name": "python3"
  },
  "language_info": {
   "codemirror_mode": {
    "name": "ipython",
    "version": 3
   },
   "file_extension": ".py",
   "mimetype": "text/x-python",
   "name": "python",
   "nbconvert_exporter": "python",
   "pygments_lexer": "ipython3",
   "version": "3.12.3"
  }
 },
 "nbformat": 4,
 "nbformat_minor": 5
}
